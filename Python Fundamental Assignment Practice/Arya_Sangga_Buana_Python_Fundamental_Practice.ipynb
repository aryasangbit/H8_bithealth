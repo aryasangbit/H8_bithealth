{
  "nbformat": 4,
  "nbformat_minor": 0,
  "metadata": {
    "colab": {
      "provenance": []
    },
    "kernelspec": {
      "name": "python3",
      "display_name": "Python 3"
    },
    "language_info": {
      "name": "python"
    }
  },
  "cells": [
    {
      "cell_type": "markdown",
      "source": [
        "#Part 1"
      ],
      "metadata": {
        "id": "lmaYZdjmv8A4"
      }
    },
    {
      "cell_type": "markdown",
      "source": [
        "###CRUD List and Dict"
      ],
      "metadata": {
        "id": "DoMwoSRV2KK8"
      }
    },
    {
      "cell_type": "code",
      "execution_count": null,
      "metadata": {
        "id": "nlqMOVckDvjt"
      },
      "outputs": [],
      "source": [
        "a = [1,2,3,4]\n",
        "b = dict({\"a\":1, \"b\":2, \"c\":3})\n",
        "a1 = a.copy()\n",
        "b1 = b.copy()\n"
      ]
    },
    {
      "cell_type": "code",
      "source": [
        "print(\"the list:\",a1) #read\n",
        "a1.append(1) #add/create new components for list\n",
        "print(\"the list after add/create new components:\", a1)\n",
        "a1[2] = 10 #update list\n",
        "print(\"the list after got an update:\", a1)\n",
        "a1.pop(0)#delete list index 0\n",
        "print(\"The list after the component got deleted\", a1)\n"
      ],
      "metadata": {
        "colab": {
          "base_uri": "https://localhost:8080/"
        },
        "id": "XSv5l4sXEJLp",
        "outputId": "b16733e9-cb96-4958-9b26-105c22e3a7b0"
      },
      "execution_count": null,
      "outputs": [
        {
          "output_type": "stream",
          "name": "stdout",
          "text": [
            "the list: [1, 2, 3, 4]\n",
            "the list after add/create new components: [1, 2, 3, 4, 1]\n",
            "the list after got an update: [1, 2, 10, 4, 1]\n",
            "The list after the component got deleted [2, 10, 4, 1]\n"
          ]
        }
      ]
    },
    {
      "cell_type": "code",
      "source": [
        "print(\"the dictionary:\", b1)\n",
        "b1[\"d\"] = 4 #add new components into dictionary\n",
        "print(\"the dictionary after added new component:\", b1)\n",
        "b1[\"a\"] = 2\n",
        "print(\"the dictionary after got an update:\", b1)\n",
        "del b1[\"d\"]\n",
        "print(\"the dictionary after one components got deleted:\", b1)"
      ],
      "metadata": {
        "colab": {
          "base_uri": "https://localhost:8080/"
        },
        "id": "vLWdSlzIEEP5",
        "outputId": "6b70e5fb-a361-4fe0-d4af-2d1532c98be0"
      },
      "execution_count": null,
      "outputs": [
        {
          "output_type": "stream",
          "name": "stdout",
          "text": [
            "the dictionary: {'a': 1, 'b': 2, 'c': 3}\n",
            "the dictionary after added new component: {'a': 1, 'b': 2, 'c': 3, 'd': 4}\n",
            "the dictionary after got an update: {'a': 2, 'b': 2, 'c': 3, 'd': 4}\n",
            "the dictionary after one components got deleted: {'a': 2, 'b': 2, 'c': 3}\n"
          ]
        }
      ]
    },
    {
      "cell_type": "markdown",
      "source": [
        "## if"
      ],
      "metadata": {
        "id": "IErN80ccwA8l"
      }
    },
    {
      "cell_type": "code",
      "source": [
        "num1 = float(input(\"Enter the first number: \"))\n",
        "num2 = float(input(\"Enter the second number: \"))\n",
        "\n",
        "if num1 > num2:\n",
        "   print(f\"{num1} is greater.\")\n",
        "elif num2 > num1:\n",
        "   print(f\"{num2} is greater.\")\n",
        "else:\n",
        "   print(\"Both numbers are equal\")"
      ],
      "metadata": {
        "id": "hk_wOEppIlAO",
        "colab": {
          "base_uri": "https://localhost:8080/"
        },
        "outputId": "ef95000d-2506-4339-cb66-be3c901f7090"
      },
      "execution_count": null,
      "outputs": [
        {
          "output_type": "stream",
          "name": "stdout",
          "text": [
            "Enter the first number: 1\n",
            "Enter the second number: 2\n",
            "2.0 is greater.\n"
          ]
        }
      ]
    },
    {
      "cell_type": "code",
      "source": [
        "year = int(input(\"Enter a year: \"))\n",
        "if (year % 4 == 0 and year % 100 != 0) or (year % 400 == 0):\n",
        "    print(f\"{year} is a leap year.\")\n",
        "else:\n",
        "    print(f\"{year} is not a leap year.\")"
      ],
      "metadata": {
        "colab": {
          "base_uri": "https://localhost:8080/"
        },
        "id": "O_wAvi4atmPA",
        "outputId": "6e0564d8-e02a-4e34-9e13-4872a935d8c1"
      },
      "execution_count": null,
      "outputs": [
        {
          "output_type": "stream",
          "name": "stdout",
          "text": [
            "Enter a year: 2024\n",
            "2024 is a leap year.\n"
          ]
        }
      ]
    },
    {
      "cell_type": "markdown",
      "source": [
        "##while"
      ],
      "metadata": {
        "id": "28I5zfCxwINm"
      }
    },
    {
      "cell_type": "code",
      "source": [
        "total = 0\n",
        "num = 2\n",
        "\n",
        "while num <= 100:\n",
        "      total += num\n",
        "      num   += 2\n",
        "\n",
        "print(\"Sum of even numbers from 1 to 100\", total)\n",
        "\n"
      ],
      "metadata": {
        "colab": {
          "base_uri": "https://localhost:8080/"
        },
        "id": "S_sMhxA6uHey",
        "outputId": "83c04d80-4666-4ea2-85ae-9d8d2179a705"
      },
      "execution_count": null,
      "outputs": [
        {
          "output_type": "stream",
          "name": "stdout",
          "text": [
            "Sum of even numbers from 1 to 100 2550\n"
          ]
        }
      ]
    },
    {
      "cell_type": "code",
      "source": [
        "password = \"secret\"\n",
        "\n",
        "while True:\n",
        "      user_input = input(\"Enter the password: \")\n",
        "      if user_input == password:\n",
        "          print(\"Access granted!\")\n",
        "          break\n",
        "      else:\n",
        "          print(\"Deleting System32.\")"
      ],
      "metadata": {
        "colab": {
          "base_uri": "https://localhost:8080/"
        },
        "id": "LtETo3X0uvS5",
        "outputId": "9b891232-7454-48a4-fe46-4a3f99f2c7a5"
      },
      "execution_count": null,
      "outputs": [
        {
          "output_type": "stream",
          "name": "stdout",
          "text": [
            "Enter the password: 1\n",
            "Deleting System32.\n",
            "Enter the password: secret\n",
            "Access granted!\n"
          ]
        }
      ]
    },
    {
      "cell_type": "markdown",
      "source": [
        "##for"
      ],
      "metadata": {
        "id": "vnEBpzsjwMWl"
      }
    },
    {
      "cell_type": "code",
      "source": [
        "num = int(input(\"Enter a number: \"))\n",
        "\n",
        "for i in range(1,11):\n",
        "    print(f\"{num}x{i} = {num * i}\")"
      ],
      "metadata": {
        "colab": {
          "base_uri": "https://localhost:8080/"
        },
        "id": "ttdfYn6dvZ-U",
        "outputId": "dde850ea-8545-4cd4-ef7a-fe8569296686"
      },
      "execution_count": null,
      "outputs": [
        {
          "output_type": "stream",
          "name": "stdout",
          "text": [
            "Enter a number: 2\n",
            "2x1 = 2\n",
            "2x2 = 4\n",
            "2x3 = 6\n",
            "2x4 = 8\n",
            "2x5 = 10\n",
            "2x6 = 12\n",
            "2x7 = 14\n",
            "2x8 = 16\n",
            "2x9 = 18\n",
            "2x10 = 20\n"
          ]
        }
      ]
    },
    {
      "cell_type": "code",
      "source": [
        "text = input(\"enter a string: \")\n",
        "text = text.lower()\n",
        "vowel_count = 0\n",
        "\n",
        "for char in text:\n",
        "    if char in \"aiueo\":\n",
        "       vowel_count += 1\n",
        "\n",
        "print(f\"Number of vowels in the string: {vowel_count}\")"
      ],
      "metadata": {
        "colab": {
          "base_uri": "https://localhost:8080/"
        },
        "id": "mKeLOHNyweTa",
        "outputId": "98c24457-d936-4d72-e11e-591e436a6fa2"
      },
      "execution_count": null,
      "outputs": [
        {
          "output_type": "stream",
          "name": "stdout",
          "text": [
            "enter a string: arya sangga buana\n",
            "Number of vowels in the string: 7\n"
          ]
        }
      ]
    },
    {
      "cell_type": "markdown",
      "source": [
        "##function"
      ],
      "metadata": {
        "id": "6ics5Q5XxBho"
      }
    },
    {
      "cell_type": "code",
      "source": [
        "def sapa(nama):\n",
        "    print(f\"Halo, {nama}\")\n",
        "\n",
        "sapa(\"taufik\")"
      ],
      "metadata": {
        "colab": {
          "base_uri": "https://localhost:8080/"
        },
        "id": "hgK9zQahw2k9",
        "outputId": "a07ae58c-40b3-4d84-b312-cb16aff61a31"
      },
      "execution_count": null,
      "outputs": [
        {
          "output_type": "stream",
          "name": "stdout",
          "text": [
            "Halo, taufik\n"
          ]
        }
      ]
    },
    {
      "cell_type": "code",
      "source": [
        "def kuadrat(angka):\n",
        "    return angka**2\n",
        "\n",
        "hasil = kuadrat(5000)\n",
        "print(hasil)"
      ],
      "metadata": {
        "colab": {
          "base_uri": "https://localhost:8080/"
        },
        "id": "XDu1RJR0xPni",
        "outputId": "b8da41a9-e484-434e-dfdf-84cafc8a95bb"
      },
      "execution_count": null,
      "outputs": [
        {
          "output_type": "stream",
          "name": "stdout",
          "text": [
            "25000000\n"
          ]
        }
      ]
    },
    {
      "cell_type": "code",
      "source": [
        "def hitung_luas_persegi(panjang=1.0, lebar=1.0):\n",
        "    return panjang*lebar\n",
        "\n",
        "luas = hitung_luas_persegi(4,3)\n",
        "print(\"luas persegi panjangnya adalah\", luas)\n",
        "\n",
        "def bentuk_nama(nama_depan, nama_belakang):\n",
        "    return f\"{nama_depan} {nama_belakang}\"\n",
        "\n",
        "nama = bentuk_nama(\"Kevin\", \"Batagor\")\n",
        "print(nama)"
      ],
      "metadata": {
        "colab": {
          "base_uri": "https://localhost:8080/"
        },
        "id": "VORj_jV2xZrd",
        "outputId": "5e31f59c-e3a4-4c87-aaa2-9e1d3a438d1d"
      },
      "execution_count": null,
      "outputs": [
        {
          "output_type": "stream",
          "name": "stdout",
          "text": [
            "luas persegi panjangnya adalah 12\n",
            "Kevin Batagor\n"
          ]
        }
      ]
    },
    {
      "cell_type": "code",
      "source": [
        "def konv_fahrenheit_ke_celcius(fahrenheit):\n",
        "    celcius = (fahrenheit-32) * 9/5\n",
        "    return celcius\n",
        "\n",
        "suhu_celcius = konv_fahrenheit_ke_celcius(98.6)\n",
        "print(\"Konversi suhu fahrenheit ke suhu_celciusnya adalah:\",suhu_celcius, \"C\")\n",
        "\n",
        "\n",
        "def hitung_pangkat(angka, pangkat):\n",
        "    hasil = 1\n",
        "    for i in range(pangkat):\n",
        "        hasil *= angka\n",
        "    return hasil\n",
        "\n",
        "pangkat = hitung_pangkat(2,3)\n",
        "print(\"hasil perhitungan pangkatnya adalah:\",pangkat)"
      ],
      "metadata": {
        "colab": {
          "base_uri": "https://localhost:8080/"
        },
        "id": "cDnNsC1ux0o-",
        "outputId": "34a1fa7c-0935-486a-ed86-a33bfc7c52f6"
      },
      "execution_count": null,
      "outputs": [
        {
          "output_type": "stream",
          "name": "stdout",
          "text": [
            "Konversi suhu fahrenheit ke suhu_celciusnya adalah: 119.88 C\n",
            "hasil perhitungan pangkatnya adalah: 8\n"
          ]
        }
      ]
    },
    {
      "cell_type": "markdown",
      "source": [
        "##Module"
      ],
      "metadata": {
        "id": "IoMBYIvY0vG4"
      }
    },
    {
      "cell_type": "code",
      "source": [
        "#Pertama tama tambahkan dulu path dari directory yang akan dipakai\n",
        "import sys\n",
        "sys.path.append(\"/content/\") #ubah \"/content/\" menjadi directory anda\n",
        "sys.path"
      ],
      "metadata": {
        "colab": {
          "base_uri": "https://localhost:8080/"
        },
        "id": "tPghoSzCzHiA",
        "outputId": "223f3e0a-a30d-4f78-a6f7-294264c9f26c"
      },
      "execution_count": null,
      "outputs": [
        {
          "output_type": "execute_result",
          "data": {
            "text/plain": [
              "['/content',\n",
              " '/env/python',\n",
              " '/usr/lib/python310.zip',\n",
              " '/usr/lib/python3.10',\n",
              " '/usr/lib/python3.10/lib-dynload',\n",
              " '',\n",
              " '/usr/local/lib/python3.10/dist-packages',\n",
              " '/usr/lib/python3/dist-packages',\n",
              " '/usr/local/lib/python3.10/dist-packages/IPython/extensions',\n",
              " '/root/.ipython',\n",
              " '/content/',\n",
              " '/content/']"
            ]
          },
          "metadata": {},
          "execution_count": 25
        }
      ]
    },
    {
      "cell_type": "code",
      "source": [
        "import main_arya\n",
        "\n",
        "message = main_arya.greet(\"Arya\")\n",
        "print(message)\n",
        "\n",
        "radius = 5\n",
        "area = main_arya.pi * (radius**2)\n",
        "print(f\"Luas lingkaran dengan radius {radius} adalah {area:2f}\")"
      ],
      "metadata": {
        "colab": {
          "base_uri": "https://localhost:8080/"
        },
        "id": "H3zMvylk0dqh",
        "outputId": "60432e39-9b6a-4099-aab7-97044ab8dca2"
      },
      "execution_count": null,
      "outputs": [
        {
          "output_type": "stream",
          "name": "stdout",
          "text": [
            "Hello, Arya\n",
            "Luas lingkaran dengan radius 5 adalah 78.539816\n"
          ]
        }
      ]
    },
    {
      "cell_type": "markdown",
      "source": [
        "#Python Script"
      ],
      "metadata": {
        "id": "zRRsMaP-2WYG"
      }
    },
    {
      "cell_type": "code",
      "source": [
        "def tambah(x,y):\n",
        "    return x+y\n",
        "\n",
        "def kurang(x,y):\n",
        "    return x-y\n",
        "\n",
        "def kali(x,y):\n",
        "    return x*y\n",
        "\n",
        "def bagi(x,y):\n",
        "    if y==0:\n",
        "       return \"tidak bisa dibagi oleh 0\"\n",
        "    return x/y\n",
        "\n",
        "while True:\n",
        "      print(\"Pilih Operasi:\")\n",
        "      print(\"1. Tambah\")\n",
        "      print(\"2. Kurang\")\n",
        "      print(\"3. Kali\")\n",
        "      print(\"4. Bagi\")\n",
        "      print(\"5. Keluar\")\n",
        "\n",
        "      pilihan = input(\"Masukan nomor operasi (1/2/3/4/5): \")\n",
        "\n",
        "      if pilihan == \"5\":\n",
        "         print(\"Keluar dari kalkulator\")\n",
        "         break\n",
        "\n",
        "      angka1 = float(input(\"Masukan angka pertama: \"))\n",
        "      angka2 = float(input(\"Masukan angka kedua: \"))\n",
        "\n",
        "      if pilihan == \"1\":\n",
        "         print(\"Hasil:\", tambah(angka1, angka2))\n",
        "      elif pilihan == \"2\":\n",
        "         print(\"Hasil:\", kurang(angka1, angka2))\n",
        "      elif pilihan == \"3\":\n",
        "         print(\"Hasil:\", kali(angka1, angka2))\n",
        "      elif pilihan == \"4\":\n",
        "         print(\"Hasil:\", bagi(angka1, angka2))\n",
        "      else:\n",
        "         print(\"Pilihan tidak valid\")\n",
        "         break"
      ],
      "metadata": {
        "colab": {
          "base_uri": "https://localhost:8080/"
        },
        "id": "uacePRDg1G4v",
        "outputId": "438042ba-ff51-426a-d328-a200e2725304"
      },
      "execution_count": null,
      "outputs": [
        {
          "output_type": "stream",
          "name": "stdout",
          "text": [
            "Pilih Operasi:\n",
            "1. Tambah\n",
            "2. Kurang\n",
            "3. Kali\n",
            "4. Bagi\n",
            "5. Keluar\n",
            "Masukan nomor operasi (1/2/3/4/5): 6\n",
            "Masukan angka pertama: 1\n",
            "Masukan angka kedua: 2\n",
            "Pilihan tidak valid\n"
          ]
        }
      ]
    },
    {
      "cell_type": "code",
      "source": [
        "shopping_list= []\n",
        "\n",
        "def tambah_item(item):\n",
        "    shopping_list.append(item)\n",
        "    print(f\"{item} telah ditambahkan ke daftar belanja.\")\n",
        "\n",
        "def hapus_item(item):\n",
        "    if item in shopping_list:\n",
        "       shopping_list.remove(item)\n",
        "       print(f\"{item} telah dihapus dari daftar belanja.\")\n",
        "    else:\n",
        "       print(f\"{item} tidak ditemukan dalam daftar belanja\" )\n",
        "\n",
        "def tampilkan_daftar():\n",
        "    print(\"Daftar Belanja\")\n",
        "    for item in shopping_list:\n",
        "        print(\"-\", item)\n",
        "\n",
        "while True:\n",
        "      print('Apa yang ingin anda lakukan?')\n",
        "      print('1. tambah item ke daftar belanja')\n",
        "      print('2. Hapus item dari daftar belanja')\n",
        "      print('3. Tampilkan daftar belanja')\n",
        "      print('4. Keluar')\n",
        "\n",
        "      pilihan = input(\"Pilih Tindakan (1/2/3/4): \")\n",
        "\n",
        "      if pilihan == \"1\":\n",
        "         item = input(\"Masukan item yang ingin anda tambahkan\")\n",
        "         tambah_item(item)\n",
        "      elif pilihan == \"2\":\n",
        "         item = input(\"Masukan item yang ingin dihapus\")\n",
        "         hapus_item(item)\n",
        "      elif pilihan == \"3\":\n",
        "         tampilkan_daftar()\n",
        "      elif pilihan == \"4\":\n",
        "         print(\"Keluar dari daftar belanja\")\n",
        "         break\n",
        "      else:\n",
        "         print(\"Pilihan tidak valid\")\n",
        "\n"
      ],
      "metadata": {
        "id": "j4JYSZp24wc7",
        "colab": {
          "base_uri": "https://localhost:8080/"
        },
        "outputId": "5dc9924b-f74b-4a7f-b0ea-427362130ae2"
      },
      "execution_count": 47,
      "outputs": [
        {
          "output_type": "stream",
          "name": "stdout",
          "text": [
            "Apa yang ingin anda lakukan?\n",
            "1. tambah item ke daftar belanja\n",
            "2. Hapus item dari daftar belanja\n",
            "3. Tampilkan daftar belanja\n",
            "4. Keluar\n",
            "Pilih Tindakan (1/2/3/4): 1\n",
            "Masukan item yang ingin anda tambahkantaufik\n",
            "taufik telah ditambahkan ke daftar belanja.\n",
            "Apa yang ingin anda lakukan?\n",
            "1. tambah item ke daftar belanja\n",
            "2. Hapus item dari daftar belanja\n",
            "3. Tampilkan daftar belanja\n",
            "4. Keluar\n",
            "Pilih Tindakan (1/2/3/4): 3\n",
            "Daftar Belanja\n",
            "- taufik\n",
            "Apa yang ingin anda lakukan?\n",
            "1. tambah item ke daftar belanja\n",
            "2. Hapus item dari daftar belanja\n",
            "3. Tampilkan daftar belanja\n",
            "4. Keluar\n",
            "Pilih Tindakan (1/2/3/4): 2\n",
            "Masukan item yang ingin dihapustaufik\n",
            "taufik telah dihapus dari daftar belanja.\n",
            "Apa yang ingin anda lakukan?\n",
            "1. tambah item ke daftar belanja\n",
            "2. Hapus item dari daftar belanja\n",
            "3. Tampilkan daftar belanja\n",
            "4. Keluar\n",
            "Pilih Tindakan (1/2/3/4): 3\n",
            "Daftar Belanja\n",
            "Apa yang ingin anda lakukan?\n",
            "1. tambah item ke daftar belanja\n",
            "2. Hapus item dari daftar belanja\n",
            "3. Tampilkan daftar belanja\n",
            "4. Keluar\n",
            "Pilih Tindakan (1/2/3/4): 4\n",
            "Keluar dari daftar belanja\n"
          ]
        }
      ]
    },
    {
      "cell_type": "code",
      "source": [
        "def hitung_bmi(berat, tinggi):\n",
        "    tinggi_m = tinggi/100\n",
        "    bmi = berat/(tinggi_m**2)\n",
        "    return bmi\n",
        "\n",
        "def kategori_bmi(bmi):\n",
        "    if bmi < 18.5:\n",
        "       return \"Kurus\"\n",
        "    elif 18.5 <= bmi < 24.9:\n",
        "       return \"Normal\"\n",
        "    elif 25 <= bmi < 29.9:\n",
        "      return \"Gemuk\"\n",
        "    else:\n",
        "      return \"Obesitas\"\n",
        "\n",
        "berat = float(input(\"Masukan berat badan (kg): \"))\n",
        "tinggi = float(input(\"Masukan tinggi badan (cm): \"))\n",
        "bmi = hitung_bmi(berat, tinggi)\n",
        "kategori = kategori_bmi(bmi)\n",
        "\n",
        "print(f\"BMI Anda adalah {bmi:.2f} ({kategori})\")"
      ],
      "metadata": {
        "colab": {
          "base_uri": "https://localhost:8080/"
        },
        "id": "Snxws3qx7qXb",
        "outputId": "e70c4bef-91ce-4f05-afb1-619c62a38647"
      },
      "execution_count": 42,
      "outputs": [
        {
          "output_type": "stream",
          "name": "stdout",
          "text": [
            "Masukan berat badan (kg): 2\n",
            "Masukan tinggi badan (cm): 100\n",
            "BMI Anda adalah 2.00 (Kurus)\n"
          ]
        }
      ]
    },
    {
      "cell_type": "code",
      "source": [
        "teks = \"\"\" ini adalah contoh teks.\n",
        "Teks ini digunakan untuk latihan pencarian kata.\"\"\"\n",
        "\n",
        "kata_cari = input(\"Masukan kata yang ingin anda cari: \")\n",
        "\n",
        "if kata_cari in teks:\n",
        "   print(f\"'{kata_cari}' ditemukan dalam teks.\")\n",
        "else:\n",
        "   print(f\"'{kata_cari}' tidak ditemukan dalam teks.\")"
      ],
      "metadata": {
        "colab": {
          "base_uri": "https://localhost:8080/"
        },
        "id": "20cgw6jv9uUp",
        "outputId": "764419ae-694a-48b3-d32b-a6b15a4c4717"
      },
      "execution_count": 44,
      "outputs": [
        {
          "output_type": "stream",
          "name": "stdout",
          "text": [
            "Masukan kata yang ingin anda cari: okdaokods\n",
            "'okdaokods' tidak ditemukan dalam teks.\n"
          ]
        }
      ]
    },
    {
      "cell_type": "code",
      "source": [
        "def konversi_mata_uang(jumlah, nilai_tukar):\n",
        "    return jumlah * nilai_tukar\n",
        "\n",
        "nilai_tukar_usd_ke_idr = 14500\n",
        "\n",
        "jumlah_usd = float(input(\"Masukan jumlah dalam USD: \"))\n",
        "jumlah_idr = konversi_mata_uang(jumlah_usd, nilai_tukar_usd_ke_idr)\n",
        "\n",
        "print(f\"{jumlah_usd} USD setara dengan {jumlah_idr} IDR.\")"
      ],
      "metadata": {
        "colab": {
          "base_uri": "https://localhost:8080/"
        },
        "id": "J4H8kv51-aKm",
        "outputId": "7ecaca67-6f9a-4b2a-9eee-7ad322b146dc"
      },
      "execution_count": 46,
      "outputs": [
        {
          "output_type": "stream",
          "name": "stdout",
          "text": [
            "Masukan jumlah dalam USD: 1\n",
            "1.0 USD setara dengan 14500.0 IDR.\n"
          ]
        }
      ]
    },
    {
      "cell_type": "markdown",
      "source": [
        "#Python Read Write"
      ],
      "metadata": {
        "id": "IjXPCvXq_I8a"
      }
    },
    {
      "cell_type": "code",
      "source": [
        "import pandas as pd\n",
        "\n",
        "def baca_data_excel(nama_file):\n",
        "    df = pd.read_excel(nama_file)\n",
        "    return df\n",
        "\n",
        "def tulis_data_excel(nama_file, df):\n",
        "    df.to_excel(nama_file, index = False)\n",
        "\n",
        "def main():\n",
        "    nama_file = \"produk.xlsx\"\n",
        "    produk = baca_data_excel(nama_file)\n",
        "\n",
        "    print(\"Data Produk:\")\n",
        "    print(produk)\n",
        "\n",
        "    tambah_produk = input(\"Tambah produk baru? (y/n): \")\n",
        "    if tambah_produk.lower() == \"y\":\n",
        "       nama_produk = input(\"Nama Produk: \")\n",
        "       harga_produk = input(\"Harga produk (IDR): \")\n",
        "       stok_produk = input(\"Stok produk: \")\n",
        "\n",
        "       produk_baru = {\"Nama Produk\" : nama_produk, \"Harga_produk\": harga_produk, \"Stock\": stok_produk}\n",
        "       produk = produk.append(produk_baru, ignore_index = True)\n",
        "\n",
        "\n",
        "if __name__==\"__main__\":\n",
        "   main()"
      ],
      "metadata": {
        "colab": {
          "base_uri": "https://localhost:8080/"
        },
        "id": "S0abBMu8_AlD",
        "outputId": "32740808-b54a-44c6-ecdd-0870149632b6"
      },
      "execution_count": 52,
      "outputs": [
        {
          "name": "stdout",
          "output_type": "stream",
          "text": [
            "Data Produk:\n",
            "Empty DataFrame\n",
            "Columns: []\n",
            "Index: []\n",
            "Tambah produk baru? (y/n): y\n",
            "Nama Produk: maul\n",
            "Harga produk (IDR): 1000\n",
            "Stok produk: 1\n"
          ]
        },
        {
          "output_type": "stream",
          "name": "stderr",
          "text": [
            "<ipython-input-52-73c05cbf454e>:24: FutureWarning: The frame.append method is deprecated and will be removed from pandas in a future version. Use pandas.concat instead.\n",
            "  produk = produk.append(produk_baru, ignore_index = True)\n"
          ]
        }
      ]
    },
    {
      "cell_type": "code",
      "source": [
        "import sqlite3\n",
        "\n",
        "def create_table():\n",
        "    connection = sqlite3.connect('produk.db')\n",
        "    cursor = connection.cursor()\n",
        "    create_table_sql = '''\n",
        "    CREATE TABLE IF NOT EXISTS produk (\n",
        "        id INTEGER PRIMARY KEY AUTOINCREMENT,\n",
        "        nama_produk TEXT NOT NULL,\n",
        "        harga INTEGER NOT NULL,\n",
        "        stok INTEGER NOT NULL\n",
        "    );\n",
        "    '''\n",
        "    cursor.execute(create_table_sql)\n",
        "    connection.commit()\n",
        "    connection.close()\n",
        "\n",
        "def baca_data_sqlite(database_file):\n",
        "    connection = sqlite3.connect(database_file)\n",
        "    cursor = connection.cursor()\n",
        "    cursor.execute(\"SELECT * FROM produk\")\n",
        "    data = cursor.fetchall()\n",
        "    connection.close()\n",
        "    return data\n",
        "\n",
        "def tambah_data_sqlite(database_file, nama_produk, harga, stok):\n",
        "    connection = sqlite3.connect(database_file)\n",
        "    cursor = connection.cursor()\n",
        "    cursor.execute(\"INSERT INTO produk (nama_produk, harga, stok) VALUES (?, ?, ?)\",\n",
        "                   (nama_produk, harga, stok))\n",
        "    connection.commit()\n",
        "    connection.close()\n",
        "\n",
        "def main():\n",
        "    database_file = 'produk.db'\n",
        "    create_table()\n",
        "    produk = baca_data_sqlite(database_file)\n",
        "\n",
        "    print(\"Data Produk: \")\n",
        "    for item in produk:\n",
        "        print(f'{item[1]}: {item[2]} IDR, Stok: {item[3]}')\n",
        "\n",
        "    tambah_produk = input(\"Tambah produk baru? (y/n): \")\n",
        "    if tambah_produk.lower() == 'y':\n",
        "        nama_produk = input(\"Nama produk: \")\n",
        "        harga_produk = input(\"Harga produk (IDR): \")\n",
        "        stok_produk = input(\"Stok produk: \")\n",
        "\n",
        "        tambah_data_sqlite(database_file, nama_produk, harga_produk, stok_produk)\n",
        "        print(\"Produk berhasil ditambahkan dan disimpan.\")\n",
        "\n",
        "if __name__ == \"__main__\":\n",
        "    main()\n"
      ],
      "metadata": {
        "colab": {
          "base_uri": "https://localhost:8080/"
        },
        "id": "OK_253daAs0U",
        "outputId": "f1959a2b-7b0c-4dfc-b650-8447bf486cd5"
      },
      "execution_count": 74,
      "outputs": [
        {
          "output_type": "stream",
          "name": "stdout",
          "text": [
            "Data Produk: \n",
            "Tambah produk baru? (y/n): y\n",
            "Nama produk: maul\n",
            "Harga produk (IDR): 1000\n",
            "Stok produk: 100\n",
            "Produk berhasil ditambahkan dan disimpan.\n"
          ]
        }
      ]
    },
    {
      "cell_type": "code",
      "source": [
        "import csv\n",
        "\n",
        "def baca_data_csv(nama_file):\n",
        "    data = []\n",
        "    with open(nama_file, mode = 'r') as file:\n",
        "         csv_reader = csv.DictReader(file)\n",
        "         for row in csv_reader:\n",
        "             data.append(row)\n",
        "    return data\n",
        "\n",
        "def tulis_data_csv(nama_file, data):\n",
        "    with open(nama_file, mode=\"w\", newline=\"\") as file:\n",
        "         fieldnames = data[0].keys()\n",
        "         writer = csv.DictWriter(file, fieldnames = fieldnames)\n",
        "         writer.writeheader()\n",
        "         writer.writerows(data)\n",
        "\n",
        "def main():\n",
        "    nama_file = \"produk.csv\"\n",
        "    produk = baca_data_csv(nama_file)\n",
        "    print(\"Data Produk: \")\n",
        "    for item in produk:\n",
        "        print(f\"{item['nama_produk']}: {item['harga']} IDR, Stok: {item['stok']}\")\n",
        "\n",
        "    tambah_produk = input(\"Tambah produk baru? (y/n): \")\n",
        "    if tambah_produk.lower() == \"y\":\n",
        "       nama_produk = input(\"Nama Produk: \")\n",
        "       harga_produk = input(\"Harga produk: \")\n",
        "       stok_produk = input(\"Stok produk: \")\n",
        "       produk_baru = {\"Nama Produk\" : nama_produk, \"Harga\" : harga_produk, \"Stok\": stok_produk}\n",
        "       produk.append(produk_baru)\n",
        "\n",
        "       tulis_data_csv(nama_file, produk)\n",
        "       print(\"Produk berhasil ditambahkan dan disimpan\")\n",
        "\n",
        "if __name__ == \"__main__\":\n",
        "   main()"
      ],
      "metadata": {
        "colab": {
          "base_uri": "https://localhost:8080/"
        },
        "id": "T0ogFIxDCzDF",
        "outputId": "97855b51-5edd-42de-f11d-471120cde366"
      },
      "execution_count": 72,
      "outputs": [
        {
          "output_type": "stream",
          "name": "stdout",
          "text": [
            "Data Produk: \n",
            "Tambah produk baru? (y/n): y\n",
            "Nama Produk: maul\n",
            "Harga produk: 100\n",
            "Stok produk: 1\n",
            "Produk berhasil ditambahkan dan disimpan\n"
          ]
        }
      ]
    },
    {
      "cell_type": "code",
      "source": [],
      "metadata": {
        "id": "3ZYxwFnCGkjL"
      },
      "execution_count": 62,
      "outputs": []
    },
    {
      "cell_type": "code",
      "source": [],
      "metadata": {
        "id": "DXH_gXkuHStU"
      },
      "execution_count": null,
      "outputs": []
    }
  ]
}