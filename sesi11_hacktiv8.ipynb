{
  "nbformat": 4,
  "nbformat_minor": 0,
  "metadata": {
    "colab": {
      "provenance": []
    },
    "kernelspec": {
      "name": "python3",
      "display_name": "Python 3"
    },
    "language_info": {
      "name": "python"
    }
  },
  "cells": [
    {
      "cell_type": "code",
      "execution_count": 8,
      "metadata": {
        "colab": {
          "base_uri": "https://localhost:8080/"
        },
        "id": "lVPeZYEMVXiv",
        "outputId": "8e03c531-c60c-48e6-c80d-899511012f9c"
      },
      "outputs": [
        {
          "output_type": "stream",
          "name": "stdout",
          "text": [
            "yes3\n",
            "yes5\n",
            "yes10\n"
          ]
        }
      ],
      "source": [
        "x = 0\n",
        "y = 5\n",
        "\n",
        "if x == y:\n",
        "   print(\"yes1\")\n",
        "\n",
        "if x > y:\n",
        "   print(\"yes2\")\n",
        "\n",
        "if x < y:\n",
        "   print(\"yes3\")\n",
        "\n",
        "if x >= y:\n",
        "   print(\"yes4\")\n",
        "\n",
        "if x <= y:\n",
        "   print(\"yes5\")\n",
        "\n",
        "if x == y:\n",
        "   print(\"yes6\")\n",
        "\n",
        "if \"aul\" in [\"grault\"]:\n",
        "   print(\"yes7\")\n",
        "\n",
        "if \"quux\" in [\"foo\", \"bar\", \"baz\"]:\n",
        "   print(\"yes8\")\n",
        "\n",
        "if x:\n",
        "   print(\"yes9\")\n",
        "\n",
        "if y:\n",
        "   print(\"yes10\")"
      ]
    },
    {
      "cell_type": "code",
      "source": [
        "if \"foo\" in [\"foo\", \"bar\", \"baz\"]:\n",
        "   print(\"the ourter condition is true\")\n",
        "\n",
        "   if 10 > 20:\n",
        "      print(\"the inner 1 condition is true\")\n",
        "\n",
        "   print(\"here is between inner condition 1 and inner condition 2\")\n",
        "\n",
        "   if 10 < 20:\n",
        "      print(\"the inner 2 condition is true\")\n",
        "\n",
        "   print(\"end of the inner condition\")\n",
        "\n",
        "print(\"after outer condition\")"
      ],
      "metadata": {
        "colab": {
          "base_uri": "https://localhost:8080/"
        },
        "id": "bEAUB0DnWTO9",
        "outputId": "e9030db0-4fd9-4e8c-8ff2-dc3b5f7db734"
      },
      "execution_count": 12,
      "outputs": [
        {
          "output_type": "stream",
          "name": "stdout",
          "text": [
            "the ourter condition is true\n",
            "here is between inner condition 1 and inner condition 2\n",
            "the inner 2 condition is true\n",
            "end of the inner condition\n",
            "after outer condition\n"
          ]
        }
      ]
    },
    {
      "cell_type": "code",
      "source": [
        "x = 20\n",
        "\n",
        "if x < 50:\n",
        "    print(\"(first suite)\")\n",
        "    print(\"x is small\")\n",
        "else:\n",
        "    print(\"(second suite)\")\n",
        "    print(\"x is large\")"
      ],
      "metadata": {
        "colab": {
          "base_uri": "https://localhost:8080/"
        },
        "id": "299daSqxWWEh",
        "outputId": "7210ff97-ae45-4e22-d569-b571490d4b56"
      },
      "execution_count": 24,
      "outputs": [
        {
          "output_type": "stream",
          "name": "stdout",
          "text": [
            "(first suite)\n",
            "x is small\n"
          ]
        }
      ]
    },
    {
      "cell_type": "code",
      "source": [
        "x = 120\n",
        "\n",
        "if x < 50:\n",
        "    print(\"(first suite)\")\n",
        "    print(\"x is small\")\n",
        "else:\n",
        "    print(\"(second suite)\")\n",
        "    print(\"x is large\")"
      ],
      "metadata": {
        "colab": {
          "base_uri": "https://localhost:8080/"
        },
        "id": "VW0mTmcUZQgf",
        "outputId": "a5075efe-80e1-47a4-9382-d6dae8e56071"
      },
      "execution_count": 15,
      "outputs": [
        {
          "output_type": "stream",
          "name": "stdout",
          "text": [
            "(second suite)\n",
            "x is large\n"
          ]
        }
      ]
    },
    {
      "cell_type": "code",
      "source": [
        "hargabuku = 20000\n",
        "hargamajalah = 5000\n",
        "uang = 100000\n",
        "\n",
        "if uang > hargabuku:\n",
        "   print(\"beli buku\")\n",
        "elif uang > hargamajalah:\n",
        "   print(\"beli majalah\")\n",
        "else:\n",
        "   print(\"uang tidak cukup\")"
      ],
      "metadata": {
        "colab": {
          "base_uri": "https://localhost:8080/"
        },
        "id": "Qi2fTlUGZXzu",
        "outputId": "d23b00a4-9dc4-4b27-f19d-6688d44ef4b2"
      },
      "execution_count": 19,
      "outputs": [
        {
          "output_type": "stream",
          "name": "stdout",
          "text": [
            "beli buku\n"
          ]
        }
      ]
    },
    {
      "cell_type": "code",
      "source": [
        "name = \"Hacktiv8\"\n",
        "\n",
        "if name == \"Fred\":\n",
        "   print(\"Hello Fred\")\n",
        "elif name == \"Xander\":\n",
        "     print(\"Hello Xander\")\n",
        "elif name == \"Hacktiv8\":\n",
        "     print(\"Hello Hacktiv8\")\n",
        "elif name == \"Arnold\":\n",
        "     print(\"Hello Arnold\")\n",
        "else:\n",
        "     print(\"I don't know who you are!\")"
      ],
      "metadata": {
        "colab": {
          "base_uri": "https://localhost:8080/"
        },
        "id": "aaggMndXaRq-",
        "outputId": "3e29171c-3142-49e7-a731-a2b1c0f81830"
      },
      "execution_count": 25,
      "outputs": [
        {
          "output_type": "stream",
          "name": "stdout",
          "text": [
            "Hello Hacktiv8\n"
          ]
        }
      ]
    },
    {
      "cell_type": "code",
      "source": [
        "if \"a\" in \"bar\":\n",
        "   print(\"foo\")\n",
        "elif 1/0:\n",
        "   print(\"This won't happen\")\n",
        "elif var:\n",
        "   print(\"This won't either\")"
      ],
      "metadata": {
        "colab": {
          "base_uri": "https://localhost:8080/"
        },
        "id": "A1p4vPMwapjc",
        "outputId": "43a7c9ec-3ebc-4d84-f8b5-3441dfe19800"
      },
      "execution_count": 26,
      "outputs": [
        {
          "output_type": "stream",
          "name": "stdout",
          "text": [
            "foo\n"
          ]
        }
      ]
    },
    {
      "cell_type": "code",
      "source": [
        "if \"f\" in \"foo\": print(\"1\"); print(\"2\"); print(\"3\")"
      ],
      "metadata": {
        "colab": {
          "base_uri": "https://localhost:8080/"
        },
        "id": "H_n7vQdbao17",
        "outputId": "3a72a78e-13c9-4d4a-9a33-32aec40f6197"
      },
      "execution_count": 27,
      "outputs": [
        {
          "output_type": "stream",
          "name": "stdout",
          "text": [
            "1\n",
            "2\n",
            "3\n"
          ]
        }
      ]
    },
    {
      "cell_type": "code",
      "source": [
        "if \"z\" in \"foo\": print(\"1\"); print(\"2\"); print(\"3\")"
      ],
      "metadata": {
        "id": "Das9J3PQbhGS"
      },
      "execution_count": 28,
      "outputs": []
    },
    {
      "cell_type": "code",
      "source": [
        "x = 2\n",
        "\n",
        "if x == 1: print(\"foo\"); print(\"bar\"); print(\"baz\")\n",
        "elif x == 2: print(\"qux\"); print(\"quux\")\n",
        "else: print(\"corge\"); print(\"grault\")"
      ],
      "metadata": {
        "colab": {
          "base_uri": "https://localhost:8080/"
        },
        "id": "wLwd0aNNblwd",
        "outputId": "cfc2cad9-35c6-4152-fc9a-d18b89c8f7e0"
      },
      "execution_count": 29,
      "outputs": [
        {
          "output_type": "stream",
          "name": "stdout",
          "text": [
            "qux\n",
            "quux\n"
          ]
        }
      ]
    },
    {
      "cell_type": "code",
      "source": [
        "x = 3\n",
        "\n",
        "if x == 1: print(\"foo\"); print(\"bar\"); print(\"baz\")\n",
        "elif x==2: print(\"qux\"); print(\"quux\")\n",
        "else: print(\"corge\"); print(\"grault\")\n"
      ],
      "metadata": {
        "colab": {
          "base_uri": "https://localhost:8080/"
        },
        "id": "JhI8-2I0b1zn",
        "outputId": "cb013447-9f7c-4be8-be1a-566b2f6e8af2"
      },
      "execution_count": 30,
      "outputs": [
        {
          "output_type": "stream",
          "name": "stdout",
          "text": [
            "corge\n",
            "grault\n"
          ]
        }
      ]
    },
    {
      "cell_type": "code",
      "source": [
        "x = 3\n",
        "\n",
        "if x == 1:\n",
        "   print(\"foo\")\n",
        "   print(\"bar\")\n",
        "   print(\"baz\")\n",
        "elif x == 2:\n",
        "   print(\"qux\")\n",
        "   print(\"quux\")\n",
        "else:\n",
        "   print(\"corge\")\n",
        "   print(\"grault\")"
      ],
      "metadata": {
        "colab": {
          "base_uri": "https://localhost:8080/"
        },
        "id": "i5U74TjBcIBS",
        "outputId": "0e89011c-ac51-4850-ccce-0a594008f443"
      },
      "execution_count": 31,
      "outputs": [
        {
          "output_type": "stream",
          "name": "stdout",
          "text": [
            "corge\n",
            "grault\n"
          ]
        }
      ]
    },
    {
      "cell_type": "code",
      "source": [
        "raining = True\n",
        "print(\"lets go to the\", \"beach\" if not raining else \"library\")"
      ],
      "metadata": {
        "colab": {
          "base_uri": "https://localhost:8080/"
        },
        "id": "RqXbYucycw_g",
        "outputId": "011a3893-c99e-46f6-b10a-c797752ae6c7"
      },
      "execution_count": 36,
      "outputs": [
        {
          "output_type": "stream",
          "name": "stdout",
          "text": [
            "lets go to the library\n"
          ]
        }
      ]
    },
    {
      "cell_type": "code",
      "source": [
        "age = 12\n",
        "s = \"teen\" if age > 21 else 'adult'\n",
        "s"
      ],
      "metadata": {
        "colab": {
          "base_uri": "https://localhost:8080/",
          "height": 35
        },
        "id": "hwGUQPhmc_Ty",
        "outputId": "1b6d141b-086a-457f-9de6-e11bfdb8e90a"
      },
      "execution_count": 37,
      "outputs": [
        {
          "output_type": "execute_result",
          "data": {
            "text/plain": [
              "'adult'"
            ],
            "application/vnd.google.colaboratory.intrinsic+json": {
              "type": "string"
            }
          },
          "metadata": {},
          "execution_count": 37
        }
      ]
    },
    {
      "cell_type": "code",
      "source": [
        "\"yes\" if (\"qux\" in [\"foo\", \"bar\", \"baz\"]) else \"no\""
      ],
      "metadata": {
        "colab": {
          "base_uri": "https://localhost:8080/",
          "height": 35
        },
        "id": "SpZTK4jOdcyM",
        "outputId": "eee214ee-ea68-401c-aaf6-4dfe92b4f78c"
      },
      "execution_count": 42,
      "outputs": [
        {
          "output_type": "execute_result",
          "data": {
            "text/plain": [
              "'no'"
            ],
            "application/vnd.google.colaboratory.intrinsic+json": {
              "type": "string"
            }
          },
          "metadata": {},
          "execution_count": 42
        }
      ]
    },
    {
      "cell_type": "code",
      "source": [
        "a = 1\n",
        "b = 2\n",
        "\n",
        "if a > b:\n",
        "   m = a\n",
        "   print(f\"m(a) is {m}\")\n",
        "else:\n",
        "   m = b\n",
        "   print(f\"m(b) is {m}\")"
      ],
      "metadata": {
        "colab": {
          "base_uri": "https://localhost:8080/"
        },
        "id": "qVS-gxTmdfeG",
        "outputId": "e78902fd-d31f-4231-faea-aacee65fb82b"
      },
      "execution_count": 46,
      "outputs": [
        {
          "output_type": "stream",
          "name": "stdout",
          "text": [
            "m(b) is 2\n"
          ]
        }
      ]
    },
    {
      "cell_type": "code",
      "source": [
        "if True:\n",
        "   pass\n",
        "print(\"foo\")"
      ],
      "metadata": {
        "colab": {
          "base_uri": "https://localhost:8080/"
        },
        "id": "Mwr-b95idvth",
        "outputId": "fba84994-d907-42d0-a0d5-c6cc6a6a92c0"
      },
      "execution_count": 50,
      "outputs": [
        {
          "output_type": "stream",
          "name": "stdout",
          "text": [
            "foo\n"
          ]
        }
      ]
    },
    {
      "cell_type": "code",
      "source": [
        "n = 5\n",
        "\n",
        "while n >= 0:\n",
        "      n-= 1\n",
        "      print(n)"
      ],
      "metadata": {
        "colab": {
          "base_uri": "https://localhost:8080/"
        },
        "id": "29ZIMoUMeNaY",
        "outputId": "006c9245-a229-4f77-e48a-c1d48153ede2"
      },
      "execution_count": 53,
      "outputs": [
        {
          "output_type": "stream",
          "name": "stdout",
          "text": [
            "4\n",
            "3\n",
            "2\n",
            "1\n",
            "0\n",
            "-1\n"
          ]
        }
      ]
    },
    {
      "cell_type": "code",
      "source": [
        "i = 1\n",
        "\n",
        "while i < 6:\n",
        "      print(i)\n",
        "      i += 1"
      ],
      "metadata": {
        "colab": {
          "base_uri": "https://localhost:8080/"
        },
        "id": "hRGC0uNZefBz",
        "outputId": "7cbe4148-7c3e-404a-ae3d-c39616bb2ba4"
      },
      "execution_count": 56,
      "outputs": [
        {
          "output_type": "stream",
          "name": "stdout",
          "text": [
            "1\n",
            "2\n",
            "3\n",
            "4\n",
            "5\n"
          ]
        }
      ]
    },
    {
      "cell_type": "code",
      "source": [
        "i = 1\n",
        "\n",
        "while i<6:\n",
        "      print(i)\n",
        "      i+=1\n",
        "      if i == 3:\n",
        "         print(\"got break\")\n",
        "         break\n",
        "print(\"loop ended\")"
      ],
      "metadata": {
        "colab": {
          "base_uri": "https://localhost:8080/"
        },
        "id": "QHEx0BBKesEJ",
        "outputId": "4706ee9c-633d-4d4b-f7bd-f3c48e9de530"
      },
      "execution_count": 59,
      "outputs": [
        {
          "output_type": "stream",
          "name": "stdout",
          "text": [
            "1\n",
            "2\n",
            "got break\n",
            "loop ended\n"
          ]
        }
      ]
    },
    {
      "cell_type": "code",
      "source": [
        "n = 1\n",
        "\n",
        "while n < 10:\n",
        "      print(f\"this is print iteration a, {n}\")\n",
        "      n += 1\n",
        "      if n==2:\n",
        "         continue\n",
        "      print(f\"this is print iteration b, {n}\")\n",
        "print(\"loop ended\")"
      ],
      "metadata": {
        "colab": {
          "base_uri": "https://localhost:8080/"
        },
        "id": "QBCnMFnzfJaR",
        "outputId": "b84c33ee-30fa-428e-fb4c-6cc29c3aa90c"
      },
      "execution_count": 68,
      "outputs": [
        {
          "output_type": "stream",
          "name": "stdout",
          "text": [
            "this is print iteration a, 1\n",
            "this is print iteration a, 2\n",
            "this is print iteration b, 3\n",
            "this is print iteration a, 3\n",
            "this is print iteration b, 4\n",
            "this is print iteration a, 4\n",
            "this is print iteration b, 5\n",
            "this is print iteration a, 5\n",
            "this is print iteration b, 6\n",
            "this is print iteration a, 6\n",
            "this is print iteration b, 7\n",
            "this is print iteration a, 7\n",
            "this is print iteration b, 8\n",
            "this is print iteration a, 8\n",
            "this is print iteration b, 9\n",
            "this is print iteration a, 9\n",
            "this is print iteration b, 10\n",
            "loop ended\n"
          ]
        }
      ]
    },
    {
      "cell_type": "code",
      "source": [
        "n = 5\n",
        "while n>0:\n",
        "  n -= 1\n",
        "  print(n)\n",
        "else:\n",
        "  print(\"loop done\")"
      ],
      "metadata": {
        "colab": {
          "base_uri": "https://localhost:8080/"
        },
        "id": "G1l2AcTufjjO",
        "outputId": "05ce7320-435a-4ae6-db72-ff6f1ba9b317"
      },
      "execution_count": 70,
      "outputs": [
        {
          "output_type": "stream",
          "name": "stdout",
          "text": [
            "4\n",
            "3\n",
            "2\n",
            "1\n",
            "0\n",
            "loop done\n"
          ]
        }
      ]
    },
    {
      "cell_type": "code",
      "source": [
        "n = 5\n",
        "\n",
        "while n>0:\n",
        "  n -= 1\n",
        "  print(n)\n",
        "  if n == 2:\n",
        "     break\n",
        "else:\n",
        "     print(\"loop done.\")"
      ],
      "metadata": {
        "colab": {
          "base_uri": "https://localhost:8080/"
        },
        "id": "wZCTUnZhgxnt",
        "outputId": "d3931d73-9f20-44c6-d967-e8c871a0119d"
      },
      "execution_count": 71,
      "outputs": [
        {
          "output_type": "stream",
          "name": "stdout",
          "text": [
            "4\n",
            "3\n",
            "2\n"
          ]
        }
      ]
    },
    {
      "cell_type": "code",
      "source": [
        "while True:\n",
        "      print(\"foo\")"
      ],
      "metadata": {
        "id": "sJnLUHmQhFJF"
      },
      "execution_count": null,
      "outputs": []
    },
    {
      "cell_type": "code",
      "source": [
        "age = 12\n",
        "\n",
        "gender = \"M\"\n",
        "\n",
        "if age < 18:\n",
        "   if gender == \"M\":\n",
        "      print(\"son\")\n",
        "   else:\n",
        "      print(\"daughter\")\n",
        "elif age >= 18 and age < 65:\n",
        "    if gender == \"M\":\n",
        "       print(\"Father\")\n",
        "    else:\n",
        "       print(\"mother\")\n",
        "else:\n",
        "     if gender == \"M\":\n",
        "        print(\"grandfather\")\n",
        "     else:\n",
        "        print(\"grandmother\")"
      ],
      "metadata": {
        "colab": {
          "base_uri": "https://localhost:8080/"
        },
        "id": "S2ZkJ0D3hKZy",
        "outputId": "b17d6f5e-25a0-4003-9b8d-8529f0836dfc"
      },
      "execution_count": 78,
      "outputs": [
        {
          "output_type": "stream",
          "name": "stdout",
          "text": [
            "son\n"
          ]
        }
      ]
    },
    {
      "cell_type": "code",
      "source": [
        "a = [\"foo\", \"bar\", \"bax\"]\n",
        "\n",
        "while len(a):\n",
        "      print(\"before pop\")\n",
        "      print(a.pop(0))\n",
        "      print(\"after pop\")\n",
        "\n",
        "      b = [\"baz\", \"qux\", \"quux\"]\n",
        "\n",
        "      while len(b):\n",
        "            print(\">\", b.pop(0))"
      ],
      "metadata": {
        "colab": {
          "base_uri": "https://localhost:8080/"
        },
        "id": "W9Hprb2YhSv8",
        "outputId": "95cd3a2d-28e9-4d3d-de12-e69d7cda38b5"
      },
      "execution_count": 84,
      "outputs": [
        {
          "output_type": "stream",
          "name": "stdout",
          "text": [
            "before pop\n",
            "foo\n",
            "after pop\n",
            "> baz\n",
            "> qux\n",
            "> quux\n",
            "before pop\n",
            "bar\n",
            "after pop\n",
            "> baz\n",
            "> qux\n",
            "> quux\n",
            "before pop\n",
            "bax\n",
            "after pop\n",
            "> baz\n",
            "> qux\n",
            "> quux\n"
          ]
        }
      ]
    },
    {
      "cell_type": "code",
      "source": [
        "n = 5\n",
        "\n",
        "while n > 0:\n",
        "      n -= 1\n",
        "      print(n)"
      ],
      "metadata": {
        "colab": {
          "base_uri": "https://localhost:8080/"
        },
        "id": "-89zGxj7imz_",
        "outputId": "8693923e-7f98-4aba-b770-1e87d5ff4372"
      },
      "execution_count": 87,
      "outputs": [
        {
          "output_type": "stream",
          "name": "stdout",
          "text": [
            "4\n",
            "3\n",
            "2\n",
            "1\n",
            "0\n"
          ]
        }
      ]
    },
    {
      "cell_type": "code",
      "source": [
        "a = [\"foo\", \"bar\", \"baz\"]\n",
        "for i in a:\n",
        "    print(i)"
      ],
      "metadata": {
        "colab": {
          "base_uri": "https://localhost:8080/"
        },
        "id": "j9Wpx55_kEoA",
        "outputId": "6fc594f3-0ff7-4a7e-aa45-ad72bda48177"
      },
      "execution_count": 90,
      "outputs": [
        {
          "output_type": "stream",
          "name": "stdout",
          "text": [
            "foo\n",
            "bar\n",
            "baz\n"
          ]
        }
      ]
    },
    {
      "cell_type": "code",
      "source": [
        "d = {'foo':1, \"bar\":2, \"baz\":3}\n",
        "for k,n in d.items():\n",
        "    print(k)"
      ],
      "metadata": {
        "colab": {
          "base_uri": "https://localhost:8080/"
        },
        "id": "udk__LoSkvZB",
        "outputId": "62314d0c-06bc-4514-bee0-86b990332e49"
      },
      "execution_count": 98,
      "outputs": [
        {
          "output_type": "stream",
          "name": "stdout",
          "text": [
            "foo\n",
            "bar\n",
            "baz\n"
          ]
        }
      ]
    },
    {
      "cell_type": "code",
      "source": [
        "d = {'foo':1, \"bar\":2, \"baz\":3}\n",
        "for k in d:\n",
        "    print(d[k])"
      ],
      "metadata": {
        "colab": {
          "base_uri": "https://localhost:8080/"
        },
        "id": "lZHfAuZDlKVk",
        "outputId": "ad646cd4-004d-4b4e-ad46-bc6aec9cd9bc"
      },
      "execution_count": 103,
      "outputs": [
        {
          "output_type": "stream",
          "name": "stdout",
          "text": [
            "1\n",
            "2\n",
            "3\n"
          ]
        }
      ]
    },
    {
      "cell_type": "code",
      "source": [
        "x = range(5)\n",
        "\n",
        "for n in x:\n",
        "    print(n)"
      ],
      "metadata": {
        "colab": {
          "base_uri": "https://localhost:8080/"
        },
        "id": "8hmfWjaxmeP_",
        "outputId": "1ac2d6ca-784e-4d25-956e-ee732b4c62fb"
      },
      "execution_count": 108,
      "outputs": [
        {
          "output_type": "stream",
          "name": "stdout",
          "text": [
            "0\n",
            "1\n",
            "2\n",
            "3\n",
            "4\n"
          ]
        }
      ]
    },
    {
      "cell_type": "code",
      "source": [
        "for i in [\"foo\", \"bar\", \"baz\", \"qux\"]:\n",
        "    if \"b\" in i:\n",
        "       continue\n",
        "    print(i)"
      ],
      "metadata": {
        "colab": {
          "base_uri": "https://localhost:8080/"
        },
        "id": "OcO9o6cEmvxq",
        "outputId": "61e34ed7-d6ba-495a-edc0-1368aa66f346"
      },
      "execution_count": 111,
      "outputs": [
        {
          "output_type": "stream",
          "name": "stdout",
          "text": [
            "foo\n",
            "qux\n"
          ]
        }
      ]
    },
    {
      "cell_type": "code",
      "source": [
        "for i  in [\"foo\", \"bar\", \"baz\", \"qux\"]:\n",
        "    print(i)\n",
        "else:\n",
        "    print(\"Done.\")"
      ],
      "metadata": {
        "colab": {
          "base_uri": "https://localhost:8080/"
        },
        "id": "i_ZzaYZhm_re",
        "outputId": "65cc05e9-97e2-415f-9f09-b1d645320954"
      },
      "execution_count": 113,
      "outputs": [
        {
          "output_type": "stream",
          "name": "stdout",
          "text": [
            "foo\n",
            "bar\n",
            "baz\n",
            "qux\n",
            "Done.\n"
          ]
        }
      ]
    },
    {
      "cell_type": "code",
      "source": [
        "for i in [\"foo\", \"bar\", \"baz\", \"qux\"]:\n",
        "    if i == \"bar\":\n",
        "       break\n",
        "    print(i)\n",
        "else:\n",
        "    print(\"Done.\")"
      ],
      "metadata": {
        "colab": {
          "base_uri": "https://localhost:8080/"
        },
        "id": "lF159fFlnSXY",
        "outputId": "b99e984c-b9f1-48f5-bd76-b5144285fb16"
      },
      "execution_count": 115,
      "outputs": [
        {
          "output_type": "stream",
          "name": "stdout",
          "text": [
            "foo\n"
          ]
        }
      ]
    },
    {
      "cell_type": "code",
      "source": [
        "temp = input()\n",
        "degree = int(temp[:-1])\n",
        "i_convertion = temp[-1]\n",
        "\n",
        "if i_convertion == \"C\":\n",
        "   result= int(round((9 * degree)/5 + 32))\n",
        "   print(f\"temperaturnya adalah {result} derajat Celcius\")\n",
        "elif i_convertion == \"F\":\n",
        "   result = int(round((degree-32) * 5 / 9))\n",
        "   print(f\"temperaturnya adalah {result} derajat Fahrenheit\")\n",
        "else:\n",
        "   print(\"Masukan input yang benar\")"
      ],
      "metadata": {
        "colab": {
          "base_uri": "https://localhost:8080/"
        },
        "id": "OKDQAyRynrcy",
        "outputId": "a80c1358-6d58-4782-bb12-1b79568db2ee"
      },
      "execution_count": 118,
      "outputs": [
        {
          "output_type": "stream",
          "name": "stdout",
          "text": [
            "45F\n",
            "temperaturnya adalah 7 derajat Fahrenheit\n"
          ]
        }
      ]
    },
    {
      "cell_type": "code",
      "source": [
        "while True:\n",
        "  msg = input(\"Ketikan karakter: \").lower()\n",
        "  print(msg)\n",
        "  if msg == \"stop\":\n",
        "     break"
      ],
      "metadata": {
        "colab": {
          "base_uri": "https://localhost:8080/"
        },
        "id": "w30NgAmkozBs",
        "outputId": "3e81907a-ca3a-4a1e-f638-3f26468341f3"
      },
      "execution_count": 120,
      "outputs": [
        {
          "output_type": "stream",
          "name": "stdout",
          "text": [
            "Ketikan karakter: condition break\n",
            "condition break\n",
            "Ketikan karakter: stop\n",
            "stop\n"
          ]
        }
      ]
    },
    {
      "cell_type": "code",
      "source": [],
      "metadata": {
        "id": "cRaH_L8GpTX6"
      },
      "execution_count": null,
      "outputs": []
    }
  ]
}